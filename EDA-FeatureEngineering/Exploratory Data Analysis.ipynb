{
 "cells": [
  {
   "cell_type": "code",
   "execution_count": 27,
   "metadata": {},
   "outputs": [],
   "source": [
    "import pandas as pd\n",
    "import numpy as np\n",
    "import matplotlib.pyplot as plt\n",
    "from matplotlib import cm\n",
    "import seaborn as sns\n",
    "from scipy.stats import pearsonr\n",
    "plt.style.use('ggplot')\n"
   ]
  },
  {
   "cell_type": "code",
   "execution_count": 18,
   "metadata": {},
   "outputs": [],
   "source": [
    "#load the data\n",
    "df = pd.read_csv(\"../Data/nba-stats-first2seasons.csv\")"
   ]
  },
  {
   "cell_type": "code",
   "execution_count": 19,
   "metadata": {},
   "outputs": [
    {
     "data": {
      "text/plain": [
       "(1325, 75)"
      ]
     },
     "execution_count": 19,
     "metadata": {},
     "output_type": "execute_result"
    }
   ],
   "source": [
    "df.shape"
   ]
  },
  {
   "cell_type": "code",
   "execution_count": 20,
   "metadata": {},
   "outputs": [],
   "source": [
    "df = df.dropna().reset_index(drop=True)"
   ]
  },
  {
   "cell_type": "code",
   "execution_count": 21,
   "metadata": {},
   "outputs": [
    {
     "data": {
      "text/plain": [
       "(1065, 75)"
      ]
     },
     "execution_count": 21,
     "metadata": {},
     "output_type": "execute_result"
    }
   ],
   "source": [
    "df.shape"
   ]
  },
  {
   "cell_type": "code",
   "execution_count": 22,
   "metadata": {},
   "outputs": [
    {
     "data": {
      "text/plain": [
       "Index(['Season', 'Age', 'Tm', 'Lg', 'Player', 'G', 'GS', 'MP', 'FG', 'FGA',\n",
       "       '2P', '2PA', '3P', '3PA', 'FT', 'FTA', 'ORB', 'DRB', 'TRB', 'AST',\n",
       "       'STL', 'BLK', 'TOV', 'PF', 'PTS', 'FG%', '2P%', '3P%', 'eFG%', 'FT%',\n",
       "       'TS%', 'Age_diff', 'Age_avg', 'G_diff', 'G_avg', 'GS_diff', 'GS_avg',\n",
       "       'MP_diff', 'MP_avg', 'FG_diff', 'FG_avg', 'FGA_diff', 'FGA_avg',\n",
       "       '2P_diff', '2P_avg', '2PA_diff', '2PA_avg', '3P_diff', '3P_avg',\n",
       "       '3PA_diff', '3PA_avg', 'FT_diff', 'FT_avg', 'FTA_diff', 'FTA_avg',\n",
       "       'ORB_diff', 'ORB_avg', 'DRB_diff', 'DRB_avg', 'TRB_diff', 'TRB_avg',\n",
       "       'AST_diff', 'AST_avg', 'STL_diff', 'STL_avg', 'BLK_diff', 'BLK_avg',\n",
       "       'TOV_diff', 'TOV_avg', 'PF_diff', 'PF_avg', 'PTS_diff', 'PTS_avg',\n",
       "       'all_star', 'rising_star'],\n",
       "      dtype='object')"
      ]
     },
     "execution_count": 22,
     "metadata": {},
     "output_type": "execute_result"
    }
   ],
   "source": [
    "df.columns"
   ]
  },
  {
   "cell_type": "code",
   "execution_count": 23,
   "metadata": {},
   "outputs": [
    {
     "data": {
      "text/html": [
       "<div>\n",
       "<style scoped>\n",
       "    .dataframe tbody tr th:only-of-type {\n",
       "        vertical-align: middle;\n",
       "    }\n",
       "\n",
       "    .dataframe tbody tr th {\n",
       "        vertical-align: top;\n",
       "    }\n",
       "\n",
       "    .dataframe thead th {\n",
       "        text-align: right;\n",
       "    }\n",
       "</style>\n",
       "<table border=\"1\" class=\"dataframe\">\n",
       "  <thead>\n",
       "    <tr style=\"text-align: right;\">\n",
       "      <th></th>\n",
       "      <th>Age</th>\n",
       "      <th>G</th>\n",
       "      <th>GS</th>\n",
       "      <th>MP</th>\n",
       "      <th>FG</th>\n",
       "      <th>FGA</th>\n",
       "      <th>2P</th>\n",
       "      <th>2PA</th>\n",
       "      <th>3P</th>\n",
       "      <th>3PA</th>\n",
       "      <th>...</th>\n",
       "      <th>BLK_diff</th>\n",
       "      <th>BLK_avg</th>\n",
       "      <th>TOV_diff</th>\n",
       "      <th>TOV_avg</th>\n",
       "      <th>PF_diff</th>\n",
       "      <th>PF_avg</th>\n",
       "      <th>PTS_diff</th>\n",
       "      <th>PTS_avg</th>\n",
       "      <th>all_star</th>\n",
       "      <th>rising_star</th>\n",
       "    </tr>\n",
       "  </thead>\n",
       "  <tbody>\n",
       "    <tr>\n",
       "      <th>count</th>\n",
       "      <td>1065.000000</td>\n",
       "      <td>1065.000000</td>\n",
       "      <td>1065.000000</td>\n",
       "      <td>1065.000000</td>\n",
       "      <td>1065.000000</td>\n",
       "      <td>1065.000000</td>\n",
       "      <td>1065.000000</td>\n",
       "      <td>1065.000000</td>\n",
       "      <td>1065.000000</td>\n",
       "      <td>1065.000000</td>\n",
       "      <td>...</td>\n",
       "      <td>1065.000000</td>\n",
       "      <td>1065.000000</td>\n",
       "      <td>1065.000000</td>\n",
       "      <td>1065.000000</td>\n",
       "      <td>1065.000000</td>\n",
       "      <td>1065.000000</td>\n",
       "      <td>1065.000000</td>\n",
       "      <td>1065.000000</td>\n",
       "      <td>1065.000000</td>\n",
       "      <td>1065.000000</td>\n",
       "    </tr>\n",
       "    <tr>\n",
       "      <th>mean</th>\n",
       "      <td>22.063850</td>\n",
       "      <td>49.143662</td>\n",
       "      <td>15.518310</td>\n",
       "      <td>16.335775</td>\n",
       "      <td>2.243192</td>\n",
       "      <td>5.261315</td>\n",
       "      <td>1.825822</td>\n",
       "      <td>3.970329</td>\n",
       "      <td>0.418779</td>\n",
       "      <td>1.289484</td>\n",
       "      <td>...</td>\n",
       "      <td>0.000939</td>\n",
       "      <td>0.312207</td>\n",
       "      <td>0.035117</td>\n",
       "      <td>1.037089</td>\n",
       "      <td>0.023474</td>\n",
       "      <td>1.654460</td>\n",
       "      <td>0.063286</td>\n",
       "      <td>6.585540</td>\n",
       "      <td>0.104225</td>\n",
       "      <td>0.172770</td>\n",
       "    </tr>\n",
       "    <tr>\n",
       "      <th>std</th>\n",
       "      <td>2.076465</td>\n",
       "      <td>23.770421</td>\n",
       "      <td>22.538686</td>\n",
       "      <td>8.107771</td>\n",
       "      <td>1.474098</td>\n",
       "      <td>3.202951</td>\n",
       "      <td>1.333539</td>\n",
       "      <td>2.734983</td>\n",
       "      <td>0.448854</td>\n",
       "      <td>1.221026</td>\n",
       "      <td>...</td>\n",
       "      <td>0.222298</td>\n",
       "      <td>0.351081</td>\n",
       "      <td>0.533173</td>\n",
       "      <td>0.643570</td>\n",
       "      <td>0.675910</td>\n",
       "      <td>0.730557</td>\n",
       "      <td>3.521872</td>\n",
       "      <td>4.185644</td>\n",
       "      <td>0.305696</td>\n",
       "      <td>0.378226</td>\n",
       "    </tr>\n",
       "    <tr>\n",
       "      <th>min</th>\n",
       "      <td>18.000000</td>\n",
       "      <td>2.000000</td>\n",
       "      <td>0.000000</td>\n",
       "      <td>2.800000</td>\n",
       "      <td>0.000000</td>\n",
       "      <td>0.700000</td>\n",
       "      <td>0.000000</td>\n",
       "      <td>0.300000</td>\n",
       "      <td>0.000000</td>\n",
       "      <td>0.000000</td>\n",
       "      <td>...</td>\n",
       "      <td>-1.100000</td>\n",
       "      <td>0.000000</td>\n",
       "      <td>-3.000000</td>\n",
       "      <td>0.050000</td>\n",
       "      <td>-2.300000</td>\n",
       "      <td>0.000000</td>\n",
       "      <td>-13.500000</td>\n",
       "      <td>0.350000</td>\n",
       "      <td>0.000000</td>\n",
       "      <td>0.000000</td>\n",
       "    </tr>\n",
       "    <tr>\n",
       "      <th>25%</th>\n",
       "      <td>21.000000</td>\n",
       "      <td>29.000000</td>\n",
       "      <td>0.000000</td>\n",
       "      <td>10.000000</td>\n",
       "      <td>1.200000</td>\n",
       "      <td>3.000000</td>\n",
       "      <td>0.900000</td>\n",
       "      <td>2.000000</td>\n",
       "      <td>0.100000</td>\n",
       "      <td>0.300000</td>\n",
       "      <td>...</td>\n",
       "      <td>-0.100000</td>\n",
       "      <td>0.100000</td>\n",
       "      <td>-0.300000</td>\n",
       "      <td>0.600000</td>\n",
       "      <td>-0.400000</td>\n",
       "      <td>1.100000</td>\n",
       "      <td>-2.000000</td>\n",
       "      <td>3.500000</td>\n",
       "      <td>0.000000</td>\n",
       "      <td>0.000000</td>\n",
       "    </tr>\n",
       "    <tr>\n",
       "      <th>50%</th>\n",
       "      <td>22.000000</td>\n",
       "      <td>51.000000</td>\n",
       "      <td>4.000000</td>\n",
       "      <td>15.300000</td>\n",
       "      <td>1.800000</td>\n",
       "      <td>4.400000</td>\n",
       "      <td>1.400000</td>\n",
       "      <td>3.200000</td>\n",
       "      <td>0.300000</td>\n",
       "      <td>1.000000</td>\n",
       "      <td>...</td>\n",
       "      <td>0.000000</td>\n",
       "      <td>0.200000</td>\n",
       "      <td>0.000000</td>\n",
       "      <td>0.900000</td>\n",
       "      <td>0.000000</td>\n",
       "      <td>1.600000</td>\n",
       "      <td>0.000000</td>\n",
       "      <td>5.500000</td>\n",
       "      <td>0.000000</td>\n",
       "      <td>0.000000</td>\n",
       "    </tr>\n",
       "    <tr>\n",
       "      <th>75%</th>\n",
       "      <td>23.000000</td>\n",
       "      <td>72.000000</td>\n",
       "      <td>22.000000</td>\n",
       "      <td>21.400000</td>\n",
       "      <td>3.000000</td>\n",
       "      <td>6.800000</td>\n",
       "      <td>2.400000</td>\n",
       "      <td>5.200000</td>\n",
       "      <td>0.600000</td>\n",
       "      <td>2.000000</td>\n",
       "      <td>...</td>\n",
       "      <td>0.100000</td>\n",
       "      <td>0.400000</td>\n",
       "      <td>0.400000</td>\n",
       "      <td>1.300000</td>\n",
       "      <td>0.400000</td>\n",
       "      <td>2.150000</td>\n",
       "      <td>2.000000</td>\n",
       "      <td>8.450000</td>\n",
       "      <td>0.000000</td>\n",
       "      <td>0.000000</td>\n",
       "    </tr>\n",
       "    <tr>\n",
       "      <th>max</th>\n",
       "      <td>35.000000</td>\n",
       "      <td>82.000000</td>\n",
       "      <td>82.000000</td>\n",
       "      <td>39.700000</td>\n",
       "      <td>8.600000</td>\n",
       "      <td>18.900000</td>\n",
       "      <td>8.600000</td>\n",
       "      <td>16.500000</td>\n",
       "      <td>2.500000</td>\n",
       "      <td>7.100000</td>\n",
       "      <td>...</td>\n",
       "      <td>1.500000</td>\n",
       "      <td>2.500000</td>\n",
       "      <td>2.300000</td>\n",
       "      <td>4.300000</td>\n",
       "      <td>2.300000</td>\n",
       "      <td>4.150000</td>\n",
       "      <td>12.000000</td>\n",
       "      <td>24.950000</td>\n",
       "      <td>1.000000</td>\n",
       "      <td>1.000000</td>\n",
       "    </tr>\n",
       "  </tbody>\n",
       "</table>\n",
       "<p>8 rows × 71 columns</p>\n",
       "</div>"
      ],
      "text/plain": [
       "               Age            G           GS           MP           FG  \\\n",
       "count  1065.000000  1065.000000  1065.000000  1065.000000  1065.000000   \n",
       "mean     22.063850    49.143662    15.518310    16.335775     2.243192   \n",
       "std       2.076465    23.770421    22.538686     8.107771     1.474098   \n",
       "min      18.000000     2.000000     0.000000     2.800000     0.000000   \n",
       "25%      21.000000    29.000000     0.000000    10.000000     1.200000   \n",
       "50%      22.000000    51.000000     4.000000    15.300000     1.800000   \n",
       "75%      23.000000    72.000000    22.000000    21.400000     3.000000   \n",
       "max      35.000000    82.000000    82.000000    39.700000     8.600000   \n",
       "\n",
       "               FGA           2P          2PA           3P          3PA  ...  \\\n",
       "count  1065.000000  1065.000000  1065.000000  1065.000000  1065.000000  ...   \n",
       "mean      5.261315     1.825822     3.970329     0.418779     1.289484  ...   \n",
       "std       3.202951     1.333539     2.734983     0.448854     1.221026  ...   \n",
       "min       0.700000     0.000000     0.300000     0.000000     0.000000  ...   \n",
       "25%       3.000000     0.900000     2.000000     0.100000     0.300000  ...   \n",
       "50%       4.400000     1.400000     3.200000     0.300000     1.000000  ...   \n",
       "75%       6.800000     2.400000     5.200000     0.600000     2.000000  ...   \n",
       "max      18.900000     8.600000    16.500000     2.500000     7.100000  ...   \n",
       "\n",
       "          BLK_diff      BLK_avg     TOV_diff      TOV_avg      PF_diff  \\\n",
       "count  1065.000000  1065.000000  1065.000000  1065.000000  1065.000000   \n",
       "mean      0.000939     0.312207     0.035117     1.037089     0.023474   \n",
       "std       0.222298     0.351081     0.533173     0.643570     0.675910   \n",
       "min      -1.100000     0.000000    -3.000000     0.050000    -2.300000   \n",
       "25%      -0.100000     0.100000    -0.300000     0.600000    -0.400000   \n",
       "50%       0.000000     0.200000     0.000000     0.900000     0.000000   \n",
       "75%       0.100000     0.400000     0.400000     1.300000     0.400000   \n",
       "max       1.500000     2.500000     2.300000     4.300000     2.300000   \n",
       "\n",
       "            PF_avg     PTS_diff      PTS_avg     all_star  rising_star  \n",
       "count  1065.000000  1065.000000  1065.000000  1065.000000  1065.000000  \n",
       "mean      1.654460     0.063286     6.585540     0.104225     0.172770  \n",
       "std       0.730557     3.521872     4.185644     0.305696     0.378226  \n",
       "min       0.000000   -13.500000     0.350000     0.000000     0.000000  \n",
       "25%       1.100000    -2.000000     3.500000     0.000000     0.000000  \n",
       "50%       1.600000     0.000000     5.500000     0.000000     0.000000  \n",
       "75%       2.150000     2.000000     8.450000     0.000000     0.000000  \n",
       "max       4.150000    12.000000    24.950000     1.000000     1.000000  \n",
       "\n",
       "[8 rows x 71 columns]"
      ]
     },
     "execution_count": 23,
     "metadata": {},
     "output_type": "execute_result"
    }
   ],
   "source": [
    "df.describe()"
   ]
  },
  {
   "cell_type": "markdown",
   "metadata": {},
   "source": [
    "'Season', 'Age', 'Tm', 'Lg', 'Player', 'G', 'GS', 'MP', 'FG', 'FGA',\n",
    "       '2P', '2PA', '3P', '3PA', 'FT', 'FTA', 'ORB', 'DRB', 'TRB', 'AST',\n",
    "       'STL', 'BLK', 'TOV', 'PF', 'PTS', 'FG%', '2P%', '3P%', 'eFG%', 'FT%',\n",
    "       'TS%', 'Age_diff', 'Age_avg', 'G_diff', 'G_avg', 'GS_diff', 'GS_avg',\n",
    "       'MP_diff', 'MP_avg', 'FG_diff', 'FG_avg', 'FGA_diff', 'FGA_avg',\n",
    "       '2P_diff', '2P_avg', '2PA_diff', '2PA_avg', '3P_diff', '3P_avg',\n",
    "       '3PA_diff', '3PA_avg', 'FT_diff', 'FT_avg', 'FTA_diff', 'FTA_avg',\n",
    "       'ORB_diff', 'ORB_avg', 'DRB_diff', 'DRB_avg', 'TRB_diff', 'TRB_avg',\n",
    "       'AST_diff', 'AST_avg', 'STL_diff', 'STL_avg', 'BLK_diff', 'BLK_avg',\n",
    "       'TOV_diff', 'TOV_avg', 'PF_diff', 'PF_avg', 'PTS_diff', 'PTS_avg',\n",
    "       'all_star', 'rising_star'"
   ]
  },
  {
   "cell_type": "code",
   "execution_count": 25,
   "metadata": {
    "scrolled": true
   },
   "outputs": [
    {
     "name": "stdout",
     "output_type": "stream",
     "text": [
      "0    954\n",
      "1    111\n",
      "Name: all_star, dtype: int64\n"
     ]
    }
   ],
   "source": [
    "print(df['all_star'].value_counts())"
   ]
  },
  {
   "cell_type": "code",
   "execution_count": 28,
   "metadata": {
    "scrolled": false
   },
   "outputs": [
    {
     "data": {
      "image/png": "[encoded data removed]",
      "text/plain": [
       "<Figure size 432x288 with 1 Axes>"
      ]
     },
     "metadata": {},
     "output_type": "display_data"
    }
   ],
   "source": [
    "# plotting original data\n",
    "labels = 'All Star', 'Not an All Star'\n",
    "btc_1 = [sum(df.all_star), (df.all_star == 0).sum(axis=0)]\n",
    "explode = (0.1, 0)\n",
    "\n",
    "colors = ['sandybrown', 'peachpuff']\n",
    "\n",
    "fig, ax = plt.subplots()\n",
    "ax.pie(btc_1, explode=explode, autopct='%1.1f%%', shadow=True, startangle=90, colors=colors, textprops={'color':\"w\", 'fontsize': 22, 'weight':\"bold\"})\n",
    "ax.axis('equal') # ensures chart is a circle\n",
    "\n",
    "ax.legend(labels,\n",
    "          title=\"Legend\",\n",
    "          loc=\"center left\",\n",
    "          fontsize=14,\n",
    "          bbox_to_anchor=(0.8, 0.25, 0.5, 1))\n",
    "\n",
    "plt.show()\n"
   ]
  },
  {
   "cell_type": "markdown",
   "metadata": {
    "scrolled": true
   },
   "source": [
    "f, ax = plt.subplots(3, figsize=(10,6))\n",
    "\n",
    "sns.set(rc={'figure.figsize':(12,8)})\n",
    "sns.boxplot(x=train.overview_len, ax = ax[0], color='skyblue')\n",
    "ax[0].set_title(\"Box Plot of overview_len variable\")\n",
    "sns.distplot(a=train.overview_len, kde = False, ax = ax[1], color='skyblue', hist_kws=dict(alpha=1))\n",
    "ax[1].set_title(\"Histogram of overview_len variable\")\n",
    "sns.distplot(a=np.log1p(train.overview_len), kde = False, ax = ax[2], color='skyblue', hist_kws=dict(alpha=1))\n",
    "ax[2].set_title(\"Log1p transformed overview_len Histogram\")\n",
    "f.tight_layout()"
   ]
  },
  {
   "cell_type": "markdown",
   "metadata": {},
   "source": [
    "#### Bivariate Analysis"
   ]
  },
  {
   "cell_type": "markdown",
   "metadata": {
    "scrolled": true
   },
   "source": [
    "plt.figure(figsize=(16, 8))\n",
    "plt.subplot(1, 2, 1)\n",
    "plt.scatter(train['overview_len'], train['revenue'], color='skyblue')\n",
    "plt.title('Revenue vs overview_len');\n",
    "plt.subplot(1, 2, 2)\n",
    "plt.scatter(np.log1p(train['overview_len']), np.log1p(train['revenue']), color='skyblue')\n",
    "plt.title('Log Revenue vs log overview_len');"
   ]
  },
  {
   "cell_type": "markdown",
   "metadata": {
    "scrolled": false
   },
   "source": [
    "#calculate Pearson's correlation\n",
    "corr, _ = pearsonr(train['overview_len'], train['revenue'])\n",
    "print('Pearsons correlation: %.3f' % corr)"
   ]
  },
  {
   "cell_type": "code",
   "execution_count": null,
   "metadata": {},
   "outputs": [],
   "source": []
  }
 ],
 "metadata": {
  "kernelspec": {
   "display_name": "Python 3",
   "language": "python",
   "name": "python3"
  },
  "language_info": {
   "codemirror_mode": {
    "name": "ipython",
    "version": 3
   },
   "file_extension": ".py",
   "mimetype": "text/x-python",
   "name": "python",
   "nbconvert_exporter": "python",
   "pygments_lexer": "ipython3",
   "version": "3.7.6"
  }
 },
 "nbformat": 4,
 "nbformat_minor": 4
}
